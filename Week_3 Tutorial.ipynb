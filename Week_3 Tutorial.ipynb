{
 "cells": [
  {
   "cell_type": "markdown",
   "id": "19eed7de",
   "metadata": {},
   "source": [
    "# Learning Outcomes\n",
    "1. Load, display and save images.\n",
    "2. Load, show, and save videos.\n",
    "3. Resize images"
   ]
  },
  {
   "cell_type": "markdown",
   "id": "a33c3b14",
   "metadata": {},
   "source": [
    "## Why OpenCV?\n",
    "- Compatible in multiple MAJOR OS, like Windoes, Linux and MacOS, can be written in different languages: C++, Python and Java.\n",
    "- Interoperable with Numpy modules, thereby faster computation of image array\n",
    "- Large community support, a lot of resources (articles and stackoverflow posts)"
   ]
  },
  {
   "cell_type": "markdown",
   "id": "901c3656",
   "metadata": {},
   "source": [
    "## Image formats\n",
    "- JPEG (.jpg, .jpeg, .jfif)\n",
    "    - photos taken from camera\n",
    "- PNG (.png)\n",
    "    - website, larger file size compared to JPEG\n",
    "- tiff (.tif)\n",
    "    - high-quality printing, large file size.\n",
    "- bmp (.bmp)\n",
    "    - multiple uses, large file size.\n",
    "- GIF (.gif)\n",
    "    - animations, shallow color depth\n",
    "- webp (.webp)\n",
    "    - smaller file size compared to JPEG and PNG, IE 11 not supported."
   ]
  },
  {
   "cell_type": "markdown",
   "id": "f9958cb8",
   "metadata": {},
   "source": [
    "## Setup"
   ]
  },
  {
   "cell_type": "code",
   "execution_count": 2,
   "id": "e748226e",
   "metadata": {},
   "outputs": [],
   "source": [
    "import sys\n",
    "# at least Python 3.7\n",
    "assert sys.version_info >= (3, 7)\n",
    "\n",
    "import numpy as np\n",
    "import cv2 as cv"
   ]
  },
  {
   "cell_type": "code",
   "execution_count": 8,
   "id": "0b9aed90",
   "metadata": {},
   "outputs": [
    {
     "name": "stdout",
     "output_type": "stream",
     "text": [
      "4.7.0\n"
     ]
    }
   ],
   "source": [
    "# check OpenCV version\n",
    "print(cv.__version__)"
   ]
  },
  {
   "cell_type": "markdown",
   "id": "ed7c2ac6",
   "metadata": {},
   "source": [
    "## Load and show images"
   ]
  },
  {
   "cell_type": "code",
   "execution_count": 9,
   "id": "92099e8b",
   "metadata": {},
   "outputs": [],
   "source": [
    "img = cv.imread(\"images/lena.jfif\")\n",
    "# second argument: 1 (default), 0 (grayscale), -1(cv.IMREAD_UNCHANGED)\n",
    "grayscale = cv.imread(\"images/lena.jfif\", 0)\n",
    "\n",
    "cv.imshow(\"lena_color\", img)\n",
    "cv.imshow(\"lena_grayscale\", grayscale)\n",
    "cv.waitKey(0)  # key binding function: wait for user response\n",
    "cv.destroyAllWindows()"
   ]
  },
  {
   "cell_type": "code",
   "execution_count": 3,
   "id": "1f3cc72e",
   "metadata": {},
   "outputs": [],
   "source": [
    "def show_img(window_name, img):\n",
    "    \"\"\"2 arguments: window name and image\"\"\"\n",
    "    cv.imshow(window_name, img)\n",
    "    cv.waitKey(0)  # key binding function: wait for user response\n",
    "    cv.destroyAllWindows()"
   ]
  },
  {
   "cell_type": "code",
   "execution_count": 11,
   "id": "a020efff",
   "metadata": {},
   "outputs": [],
   "source": [
    "# png\n",
    "img = cv.imread(\"images/lena.png\")\n",
    "\n",
    "show_img(\"lena\", img)"
   ]
  },
  {
   "cell_type": "code",
   "execution_count": 12,
   "id": "fb801a25",
   "metadata": {},
   "outputs": [
    {
     "name": "stdout",
     "output_type": "stream",
     "text": [
      "shape of jpeg image: (225, 225, 3)\n",
      "shape of png image: (225, 225, 4)\n"
     ]
    }
   ],
   "source": [
    "# difference between jpeg and png\n",
    "img_jpeg = cv.imread(\"images/lena.jpg\", -1)\n",
    "img_png = cv.imread(\"images/lena.png\", -1)\n",
    "\n",
    "print(f\"shape of jpeg image: {img_jpeg.shape}\")\n",
    "print(f\"shape of png image: {img_png.shape}\")"
   ]
  },
  {
   "cell_type": "markdown",
   "id": "4319c9bb",
   "metadata": {},
   "source": [
    "## GIF\n",
    "import new module"
   ]
  },
  {
   "cell_type": "code",
   "execution_count": 13,
   "id": "a1dc2884",
   "metadata": {},
   "outputs": [
    {
     "name": "stdout",
     "output_type": "stream",
     "text": [
      "Requirement already satisfied: imageio in c:\\users\\joseph tee\\appdata\\local\\programs\\python\\python311\\lib\\site-packages (2.31.1)\n",
      "Requirement already satisfied: numpy in c:\\users\\joseph tee\\appdata\\local\\programs\\python\\python311\\lib\\site-packages (from imageio) (1.25.0)\n",
      "Requirement already satisfied: pillow>=8.3.2 in c:\\users\\joseph tee\\appdata\\local\\programs\\python\\python311\\lib\\site-packages (from imageio) (9.5.0)\n"
     ]
    }
   ],
   "source": [
    "!pip install imageio"
   ]
  },
  {
   "cell_type": "code",
   "execution_count": 3,
   "id": "2b7cdfbb",
   "metadata": {},
   "outputs": [],
   "source": [
    "import imageio"
   ]
  },
  {
   "cell_type": "code",
   "execution_count": 15,
   "id": "dde79f4a",
   "metadata": {},
   "outputs": [],
   "source": [
    "# gif\n",
    "GIF = imageio.mimread(\"images/rotating_earth_large.gif\")\n",
    "# change to BGR from RGB\n",
    "imgs = [cv.cvtColor(img, cv.COLOR_RGB2BGR) for img in GIF]\n",
    "\n",
    "for img in imgs:\n",
    "    cv.imshow(\"GIF\", img)\n",
    "    cv.waitKey(200)\n",
    "\n",
    "cv.destroyAllWindows()"
   ]
  },
  {
   "cell_type": "markdown",
   "id": "e6646ca2",
   "metadata": {},
   "source": [
    "## Save Images\n",
    "```\n",
    "cv.imwrite(filepath, img)\n",
    "```"
   ]
  },
  {
   "cell_type": "code",
   "execution_count": 16,
   "id": "09d43d99",
   "metadata": {},
   "outputs": [],
   "source": [
    "# a more formalized approach\n",
    "img = cv.imread(cv.samples.findFile(\"images/lena.jfif\"))\n",
    "\n",
    "if img is None:\n",
    "    sys.exit(\"Not a valid filepath\")\n",
    "\n",
    "cv.imshow(\"img\", img)\n",
    "k = cv.waitKey(0) & 0xFF\n",
    "if k == 115: # press 's' button #or if k == ord('s'): if lazy find ascii table\n",
    "    cv.imwrite(\"lena_save.jpg\", img)\n",
    "    \n",
    "cv.destroyAllWindows()"
   ]
  },
  {
   "cell_type": "markdown",
   "id": "b4724ff1",
   "metadata": {},
   "source": [
    "## Same operations on videos\n",
    "Load and show videos"
   ]
  },
  {
   "cell_type": "code",
   "execution_count": 17,
   "id": "438cf728",
   "metadata": {},
   "outputs": [],
   "source": [
    "cap = cv.VideoCapture(\"videos/img_pexels.mp4\")\n",
    "\n",
    "if not cap.isOpened():\n",
    "    sys.exit(\"No video file found\")\n",
    "\n",
    "cv.namedWindow(\"frame\", cv.WINDOW_NORMAL) \n",
    "while True:\n",
    "    ret, frame = cap.read()\n",
    "    \n",
    "    if not ret:\n",
    "        print(\"No frame received!\")\n",
    "        break\n",
    "    \n",
    "    cv.imshow(\"frame\", frame)\n",
    "    k = cv.waitKey(1) & 0xFF\n",
    "    if k == 27:\n",
    "        break\n",
    "\n",
    "cap.release()\n",
    "cv.destroyAllWindows()"
   ]
  },
  {
   "cell_type": "code",
   "execution_count": 4,
   "id": "9f008a30",
   "metadata": {},
   "outputs": [],
   "source": [
    "import time"
   ]
  },
  {
   "cell_type": "code",
   "execution_count": 19,
   "id": "7a5cd29a",
   "metadata": {},
   "outputs": [
    {
     "ename": "SystemExit",
     "evalue": "No webcam found",
     "output_type": "error",
     "traceback": [
      "An exception has occurred, use %tb to see the full traceback.\n",
      "\u001b[1;31mSystemExit\u001b[0m\u001b[1;31m:\u001b[0m No webcam found\n"
     ]
    },
    {
     "name": "stderr",
     "output_type": "stream",
     "text": [
      "C:\\Users\\Joseph Tee\\AppData\\Local\\Programs\\Python\\Python311\\Lib\\site-packages\\IPython\\core\\interactiveshell.py:3516: UserWarning: To exit: use 'exit', 'quit', or Ctrl-D.\n",
      "  warn(\"To exit: use 'exit', 'quit', or Ctrl-D.\", stacklevel=1)\n"
     ]
    }
   ],
   "source": [
    "## Webcam\n",
    "cap = cv.VideoCapture(0) #webcam\n",
    "\n",
    "if not cap.isOpened():\n",
    "    sys.exit(\"No webcam found\")\n",
    "\n",
    "# save video object\n",
    "# araguments: filepath, fourcc, fps, width and height\n",
    "fourcc = cv.VideoWriter_fourcc(\"M\", \"J\", \"P\" ,\"G\")\n",
    "fps = 15\n",
    "w, h = int(cap.get(3)), int(cap.get(4))\n",
    "out = cv.VideoWriter(\"videos/out.avi\", fourcc, fps, (w,h))\n",
    "\n",
    "while True:\n",
    "    ret, frame = cap.read()\n",
    "    \n",
    "    if not ret:\n",
    "        print(\"No frame received!\")\n",
    "        break\n",
    "    \n",
    "    out.write(frame)\n",
    "    cv.imshow(\"frame\", frame)\n",
    "    k = cv.waitKey(1) & 0xFF\n",
    "    if k == 27:\n",
    "        break\n",
    "\n",
    "cap.release()\n",
    "out.release()\n",
    "cv.destroyAllWindows()"
   ]
  },
  {
   "cell_type": "code",
   "execution_count": null,
   "id": "3e9d5f40",
   "metadata": {},
   "outputs": [],
   "source": [
    "cap = cv.VideoCapture(\"videos/img_pexels.mp4\")\n",
    "\n",
    "if not cap.isOpened():\n",
    "    sys.exit(\"No video file found\")\n",
    "\n",
    "cv.namedWindow(\"frame\", cv.WINDOW_NORMAL) \n",
    "start = time.time()\n",
    "while True:\n",
    "    ret, frame = cap.read()\n",
    "    \n",
    "    if not ret:\n",
    "        print(\"No frame received!\")\n",
    "        break\n",
    "    \n",
    "    cv.imshow(\"frame\", frame)\n",
    "    k = cv.waitKey(1) & 0xFF\n",
    "    if k == 27:\n",
    "        break\n",
    "\n",
    "end = time.time()\n",
    "# cap.release()\n",
    "cv.destroyAllWindows()"
   ]
  },
  {
   "cell_type": "code",
   "execution_count": null,
   "id": "155b93f0",
   "metadata": {},
   "outputs": [],
   "source": [
    "print(f\"The actual frame rate from the file: {cap.get(5)}\")\n",
    "n_frames = cap.get(7)\n",
    "print(f\"The fps if stream using OpenCV: {n_frames / (end - start)}\")"
   ]
  },
  {
   "cell_type": "markdown",
   "id": "0d594de0",
   "metadata": {},
   "source": [
    "## Image resizing\n",
    "1. set arbitary dimension (w,h).\n",
    "2. scale factor"
   ]
  },
  {
   "cell_type": "code",
   "execution_count": null,
   "id": "0ec4533e",
   "metadata": {},
   "outputs": [],
   "source": [
    "# 1 method\n",
    "img = cv.imread(\"images/soccer.jpg\")\n",
    "\n",
    "new_height = 450\n",
    "new_width = 300\n",
    "\n",
    "# third argument: fx, 4th: fy, 5th: interpolation methods (default: bilinear)\n",
    "img_resize = cv.resize(img, (new_width, new_height))\n",
    "\n",
    "cv.imshow(\"original\",img)\n",
    "show_img(\"resize\", img_resize)"
   ]
  },
  {
   "cell_type": "code",
   "execution_count": null,
   "id": "4bdc680c",
   "metadata": {},
   "outputs": [],
   "source": [
    "img.shape"
   ]
  },
  {
   "cell_type": "code",
   "execution_count": null,
   "id": "31000ff6",
   "metadata": {},
   "outputs": [],
   "source": [
    "# 2 method: scale factor\n",
    "\n",
    "img = cv.imread(\"images/lena.jfif\")\n",
    "\n",
    "img_resize = cv.resize(img, None, fx=1.5, fy = 1.5)\n",
    "cv.imshow(\"original\",img)\n",
    "show_img(\"resize\", img_resize)"
   ]
  },
  {
   "cell_type": "markdown",
   "id": "a4c58a24",
   "metadata": {},
   "source": [
    "## Exercise 1\n",
    "Load and display the image 'dog.jfif'. Save the image in png format."
   ]
  },
  {
   "cell_type": "code",
   "execution_count": null,
   "id": "ae33d00b",
   "metadata": {},
   "outputs": [],
   "source": [
    "img = cv.imread(cv.samples.findFile(\"images/dog.jfif\"))\n",
    "\n",
    "if img is None:\n",
    "    sys.exit(\"Not a valid filepath\")\n",
    "\n",
    "cv.imshow(\"dog\", img)\n",
    "k = cv.waitKey(0) & 0xFF\n",
    "if k == 115:\n",
    "    cv.imwrite(\"dog_save.png\", img)\n",
    "    \n",
    "cv.destroyAllWindows()"
   ]
  },
  {
   "cell_type": "markdown",
   "id": "7f1a4718",
   "metadata": {},
   "source": [
    "## Exercise 2\n",
    "Suggest 2 ways and write codes to display 2 images simultaneously. You can use any image snapped from your handphone, downloaded from internet or images from weekly materials on MS teams. The 2 images are original color image and its corresponding grayscale image."
   ]
  },
  {
   "cell_type": "code",
   "execution_count": null,
   "id": "7a1d09da",
   "metadata": {},
   "outputs": [],
   "source": [
    "# 1 method: cv.imshow() called twice\n",
    "img = cv.imread(\"images/lena.jfif\")\n",
    "grayscale = cv.imread(\"images/lena.jfif\", 0)\n",
    "\n",
    "cv.imshow(\"lena\", img)\n",
    "cv.imshow(\"grayscale\", grayscale)\n",
    "cv.waitKey(0)  # key binding function: wait for user response\n",
    "cv.destroyAllWindows()"
   ]
  },
  {
   "cell_type": "code",
   "execution_count": 5,
   "id": "c481d092",
   "metadata": {},
   "outputs": [],
   "source": [
    "# import external module: matplotlib\n",
    "import matplotlib.pyplot as plt"
   ]
  },
  {
   "cell_type": "code",
   "execution_count": null,
   "id": "7f65652c",
   "metadata": {},
   "outputs": [],
   "source": [
    "img_rgb = cv.cvtColor(img, cv.COLOR_BGR2RGB)\n",
    "\n",
    "plt.subplot(121)\n",
    "plt.imshow(img_rgb)\n",
    "plt.xticks([]), plt.yticks([])\n",
    "plt.subplot(122)\n",
    "plt.imshow(grayscale, cmap=plt.cm.gray)\n",
    "plt.xticks([]), plt.yticks([])\n",
    "plt.suptitle(\"color vs graysacle\")\n",
    "plt.show()"
   ]
  },
  {
   "cell_type": "code",
   "execution_count": null,
   "id": "7db23276",
   "metadata": {},
   "outputs": [],
   "source": [
    "# 3 method: concatenate (join array)\n",
    "gray = cv.cvtColor(grayscale. cv.COLOR_GRAY2BGR)\n",
    "\n",
    "#img_combined = np.hstack((img, gray))\n",
    "img_combined = np.concatenate((img, gray), axis = 1)\n",
    "show_img(\"joined\", img_combined)"
   ]
  },
  {
   "cell_type": "markdown",
   "id": "724fdc9f",
   "metadata": {},
   "source": [
    "## Exercise 3\n",
    "Write codes that performs the following:\n",
    "- Load the video “img_pexels.mp4” into the Python environment, resize it and display the videos with smaller frames (The frames can be of any size, as long as it is smaller). You can specify an arbitrary frame rate.\n",
    "- Save it as a separate files: “smaller_img_pexels.avi” or \"smaller_img_pexels.mp4\""
   ]
  },
  {
   "cell_type": "code",
   "execution_count": 4,
   "id": "8a7f21ca",
   "metadata": {},
   "outputs": [],
   "source": [
    "cap = cv.VideoCapture(\"videos/img_pexels.mp4\")\n",
    "\n",
    "if not cap.isOpened():\n",
    "    sys.exit(\"The file does not exist\")\n",
    "\n",
    "cv.namedWindow(\"frame\", cv.WINDOW_NORMAL)\n",
    "\n",
    "fourcc = cv.VideoWriter_fourcc(*\"mp4v\")\n",
    "fps = 15\n",
    "# .get(3) to get width of the video and .get(4) to get height of the video, then divide 2 to get smaller size\n",
    "w, h = int(cap.get(3))// 2, int(cap.get(4)) // 2 \n",
    "out = cv.VideoWriter(\"smaller_img_pexels.mp4\", fourcc, fps, (w,h))\n",
    "\n",
    "while True:\n",
    "    ret, frame = cap.read()\n",
    "    \n",
    "    frame = cv.resize(frame, (w,h))\n",
    "    if not ret:\n",
    "        print(\"No frame received!\")\n",
    "        break\n",
    "        \n",
    "    out.write(frame)\n",
    "    cv.imshow(\"frame\", frame)\n",
    "    k = cv.waitKey(1) & 0xFF\n",
    "    if k == 27:\n",
    "        break\n",
    "        \n",
    "cap.release()\n",
    "out.release()\n",
    "cv.destroyAllWindows()"
   ]
  },
  {
   "cell_type": "markdown",
   "id": "06adedfd",
   "metadata": {},
   "source": [
    "## Exercise 4\n",
    "Enlarge the image \"dog.jfif\" by using different techniques: 1) Linear interpolation, 2) Cubic interpolation and 3) nearest neighbor interpolation. Comment on the upscaled of all the outputs."
   ]
  },
  {
   "cell_type": "code",
   "execution_count": 11,
   "id": "cd4ec67a",
   "metadata": {},
   "outputs": [],
   "source": [
    "#Linear interpolation\n",
    "img = cv.imread(\"images/dog.jfif\")\n",
    "img_linear = cv.resize(img, None, fx=1.5, fy=1.5, interpolation=cv.INTER_LINEAR)\n",
    "\n",
    "show_img(\"Linear interpolation\", img_linear)\n",
    "\n",
    "\n",
    "#Cubic interpolation\n",
    "img = cv.imread(\"images/dog.jfif\")\n",
    "img_cubic = cv.resize(img, None, fx=1.5, fy=1.5, interpolation=cv.INTER_CUBIC)\n",
    "\n",
    "show_img(\"Cubic Interpolation\", img_cubic)\n",
    "\n",
    "\n",
    "#nearest neighbor interpolation\n",
    "img = cv.imread(\"images/dog.jfif\")\n",
    "img_nearest = cv.resize(img, None, fx=1.5, fy=1.5, interpolation=cv.INTER_NEAREST)\n",
    "\n",
    "show_img(\"Nearest neighbor interpolation\", img_nearest)\n",
    "\n",
    "# Comments:\n",
    "# Linear interpolation has the clearest resolution among them.\n",
    "# Cubic interpolation image has slightly worse resolution than linear interpolation.\n",
    "# Nearest neigbor interpolation has the lowest resolution among them."
   ]
  }
 ],
 "metadata": {
  "kernelspec": {
   "display_name": "Python 3 (ipykernel)",
   "language": "python",
   "name": "python3"
  },
  "language_info": {
   "codemirror_mode": {
    "name": "ipython",
    "version": 3
   },
   "file_extension": ".py",
   "mimetype": "text/x-python",
   "name": "python",
   "nbconvert_exporter": "python",
   "pygments_lexer": "ipython3",
   "version": "3.11.4"
  },
  "varInspector": {
   "cols": {
    "lenName": 16,
    "lenType": 16,
    "lenVar": 40
   },
   "kernels_config": {
    "python": {
     "delete_cmd_postfix": "",
     "delete_cmd_prefix": "del ",
     "library": "var_list.py",
     "varRefreshCmd": "print(var_dic_list())"
    },
    "r": {
     "delete_cmd_postfix": ") ",
     "delete_cmd_prefix": "rm(",
     "library": "var_list.r",
     "varRefreshCmd": "cat(var_dic_list()) "
    }
   },
   "types_to_exclude": [
    "module",
    "function",
    "builtin_function_or_method",
    "instance",
    "_Feature"
   ],
   "window_display": false
  }
 },
 "nbformat": 4,
 "nbformat_minor": 5
}
