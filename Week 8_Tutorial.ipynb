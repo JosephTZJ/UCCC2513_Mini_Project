{
 "cells": [
  {
   "cell_type": "markdown",
   "id": "a218a5a6",
   "metadata": {},
   "source": [
    "## Learning outcomes\n",
    "- IOU"
   ]
  },
  {
   "cell_type": "markdown",
   "id": "ab9a919c",
   "metadata": {},
   "source": [
    "## Setup"
   ]
  },
  {
   "cell_type": "code",
   "execution_count": 1,
   "id": "62f4d703",
   "metadata": {},
   "outputs": [
    {
     "name": "stdout",
     "output_type": "stream",
     "text": [
      "Requirement already satisfied: requests in c:\\users\\joseph tee\\appdata\\local\\programs\\python\\python311\\lib\\site-packages (2.31.0)\n",
      "Requirement already satisfied: charset-normalizer<4,>=2 in c:\\users\\joseph tee\\appdata\\local\\programs\\python\\python311\\lib\\site-packages (from requests) (3.2.0)\n",
      "Requirement already satisfied: idna<4,>=2.5 in c:\\users\\joseph tee\\appdata\\local\\programs\\python\\python311\\lib\\site-packages (from requests) (3.4)\n",
      "Requirement already satisfied: urllib3<3,>=1.21.1 in c:\\users\\joseph tee\\appdata\\local\\programs\\python\\python311\\lib\\site-packages (from requests) (2.0.4)\n",
      "Requirement already satisfied: certifi>=2017.4.17 in c:\\users\\joseph tee\\appdata\\local\\programs\\python\\python311\\lib\\site-packages (from requests) (2023.7.22)\n"
     ]
    }
   ],
   "source": [
    "!pip install requests"
   ]
  },
  {
   "cell_type": "code",
   "execution_count": 1,
   "id": "750997c8",
   "metadata": {},
   "outputs": [],
   "source": [
    "import sys\n",
    "assert sys.version_info >= (3, 7)\n",
    "\n",
    "import numpy as np\n",
    "import cv2 as cv\n",
    "from util_func import *"
   ]
  },
  {
   "cell_type": "markdown",
   "id": "0758beb9",
   "metadata": {},
   "source": [
    "## IOU\n",
    "FORMULA:\n",
    "\n",
    "$$IOU = \\frac{| A \\cap B |}{| A \\cup B |}$$"
   ]
  },
  {
   "cell_type": "code",
   "execution_count": 2,
   "id": "d4bbe80f",
   "metadata": {},
   "outputs": [],
   "source": [
    "def computeIOU(boxA, boxB):\n",
    "    \"\"\"boxA and boxB are of xyxy formats\"\"\"\n",
    "    x_start = max(boxA[0], boxB[0])\n",
    "    y_start = max(boxA[1], boxB[1])\n",
    "    x_end = min(boxA[2], boxB[2])\n",
    "    y_end = min(boxA[3], boxB[3])\n",
    "    \n",
    "    interArea = max(0, x_end - x_start + 1) * max(0, y_end - y_start + 1)\n",
    "    \n",
    "    areaA = (boxA[2] - boxA[0] + 1) * (boxA[3] - boxA[1] + 1)\n",
    "    areaB = (boxB[2] - boxB[0] + 1) * (boxB[3] - boxB[1] + 1)\n",
    "    \n",
    "    return interArea / (areaA + areaB - interArea)"
   ]
  },
  {
   "cell_type": "code",
   "execution_count": 8,
   "id": "440ad1aa",
   "metadata": {},
   "outputs": [],
   "source": [
    "img = cv.imread(\"images/lena.jfif\")"
   ]
  },
  {
   "cell_type": "code",
   "execution_count": 21,
   "id": "57fce94b",
   "metadata": {},
   "outputs": [],
   "source": [
    "boxes = cv.selectROIs(\"bounding box\", img, showCrosshair = False)\n",
    "\n",
    "cv.waitKey(0)\n",
    "cv.destroyAllWindows()\n",
    "\n",
    "# drag a bounding box then hit spacebar\n",
    "# drag another bounding box then hit spacebar again\n",
    "# Press Esc twice to quit."
   ]
  },
  {
   "cell_type": "code",
   "execution_count": 22,
   "id": "ee829f10",
   "metadata": {},
   "outputs": [
    {
     "data": {
      "text/plain": [
       "array([[ 96,  72,  62, 102],\n",
       "       [ 84,  71,  78, 103]])"
      ]
     },
     "execution_count": 22,
     "metadata": {},
     "output_type": "execute_result"
    }
   ],
   "source": [
    "boxes"
   ]
  },
  {
   "cell_type": "code",
   "execution_count": 3,
   "id": "0054ca57",
   "metadata": {},
   "outputs": [],
   "source": [
    "def convert_xywh_to_xyxy(box):\n",
    "    return [box[0], box[1], box[0] + box[2], box[1] + box[3]]"
   ]
  },
  {
   "cell_type": "code",
   "execution_count": 24,
   "id": "e0fa225d",
   "metadata": {},
   "outputs": [],
   "source": [
    "gt = convert_xywh_to_xyxy(boxes[0])\n",
    "pred = convert_xywh_to_xyxy(boxes[1])\n",
    "\n",
    "img_copy = img.copy()\n",
    "cv.rectangle(img_copy, (gt[0], gt[1]), (gt[2],gt[3]), (0, 0, 255), 2)\n",
    "cv.rectangle(img_copy, (pred[0], pred[1]), (pred[2],pred[3]), (255, 0, 0), 2)\n",
    "cv.putText(img_copy, f\"IOU: {computeIOU(gt, pred):.3f}\",(10, 25),\n",
    "          cv.FONT_HERSHEY_SIMPLEX, 0.5, (0, 255, 0), 1)\n",
    "\n",
    "show_img(\"IOU\", img_copy)"
   ]
  },
  {
   "cell_type": "markdown",
   "id": "4eca0d8c",
   "metadata": {},
   "source": [
    "## Edge detection\n",
    "Sobel x operator kernel formulation:\n",
    "\n",
    "$$\\begin{bmatrix} 1 & 0 & 1\\\\ -2 & 0 & 2 \\\\ -1 & 0 & 1 \\end{bmatrix}$$"
   ]
  },
  {
   "cell_type": "code",
   "execution_count": 25,
   "id": "de0de279",
   "metadata": {},
   "outputs": [],
   "source": [
    "img = cv.imread(\"images/wood_planck.jfif\", 0)\n",
    "\n",
    "th = cv.threshold(img, 200, 255, cv.THRESH_BINARY_INV)[1]\n",
    "\n",
    "show_img(\"binary\", th)\n",
    "#sobel operators (wrong way)"
   ]
  },
  {
   "cell_type": "code",
   "execution_count": 28,
   "id": "b425eb62",
   "metadata": {},
   "outputs": [
    {
     "data": {
      "image/png": "[encoded data removed]",
      "text/plain": [
       "<Figure size 432x288 with 2 Axes>"
      ]
     },
     "metadata": {},
     "output_type": "display_data"
    }
   ],
   "source": [
    "# wrong way\n",
    "sobelx_8u = cv.Sobel(th, cv.CV_8U, 0, 1)\n",
    "\n",
    "# correct way\n",
    "sobelx_32f = cv.Sobel(th, cv.CV_32F, 0, 1)\n",
    "sobelx = cv.convertScaleAbs(sobelx_32f)   # absolute and convert to uint8\n",
    "\n",
    "plt.subplot(121), plt_img(sobelx_8u, \"wrong\")\n",
    "plt.subplot(122), plt_img(sobelx, \"correct\")\n",
    "plt.show()"
   ]
  },
  {
   "cell_type": "markdown",
   "id": "03965d99",
   "metadata": {},
   "source": [
    "### combine x and y edges"
   ]
  },
  {
   "cell_type": "code",
   "execution_count": 30,
   "id": "bbf3a125",
   "metadata": {},
   "outputs": [
    {
     "data": {
      "image/png": "[encoded data removed]",
      "text/plain": [
       "<Figure size 432x288 with 6 Axes>"
      ]
     },
     "metadata": {
      "needs_background": "light"
     },
     "output_type": "display_data"
    }
   ],
   "source": [
    "img = cv.imread(\"images/chessboard.png\", 0)\n",
    "\n",
    "# sobel x and y\n",
    "sobelx_32f = cv.Sobel(img, cv.CV_32F, 1, 0)\n",
    "sobelx = cv.convertScaleAbs(sobelx_32f)\n",
    "sobely_32f = cv.Sobel(img, cv.CV_32F, 0, 1)\n",
    "sobely = cv.convertScaleAbs(sobely_32f)\n",
    "\n",
    "# gradient and direction\n",
    "gradient = cv.magnitude(sobelx_32f, sobely_32f)\n",
    "direction = cv.phase(sobelx_32f, sobely_32f, angleInDegrees=True) % 180\n",
    "\n",
    "plt.subplot(221), plt_img(sobelx, \"vertical\")\n",
    "plt.subplot(222), plt_img(sobely, \"horizontal\")\n",
    "plt.subplot(223), plt.imshow(gradient, cmap=\"jet\"), plt.title(\"gradient\")\n",
    "plt.colorbar()\n",
    "plt.subplot(224), plt.imshow(direction, cmap=\"jet\"), plt.title(\"direction\")\n",
    "plt.colorbar()\n",
    "plt.show()"
   ]
  },
  {
   "cell_type": "code",
   "execution_count": 33,
   "id": "d70608ad",
   "metadata": {},
   "outputs": [
    {
     "data": {
      "image/png": "[encoded data removed]",
      "text/plain": [
       "<Figure size 432x288 with 2 Axes>"
      ]
     },
     "metadata": {},
     "output_type": "display_data"
    }
   ],
   "source": [
    "img = cv.imread(\"images/chair.jpg\", 0)\n",
    "\n",
    "edge = cv.Canny(img, 100, 300)\n",
    "\n",
    "plt.subplot(121), plt_img(img, \"grayscale\")\n",
    "plt.subplot(122), plt_img(edge, \"Canny\")\n",
    "\n",
    "plt.show()"
   ]
  },
  {
   "cell_type": "code",
   "execution_count": 34,
   "id": "1d3f96f0",
   "metadata": {},
   "outputs": [
    {
     "data": {
      "image/png": "[encoded data removed]",
      "text/plain": [
       "<Figure size 432x288 with 2 Axes>"
      ]
     },
     "metadata": {},
     "output_type": "display_data"
    }
   ],
   "source": [
    "img = cv.imread(\"images/chair.jpg\", 0)\n",
    "\n",
    "edge = cv.Canny(img, 30, 150)\n",
    "\n",
    "plt.subplot(121), plt_img(img, \"grayscale\")\n",
    "plt.subplot(122), plt_img(edge, \"Canny\")\n",
    "\n",
    "plt.show()"
   ]
  },
  {
   "cell_type": "markdown",
   "id": "4938b68b",
   "metadata": {},
   "source": [
    "## Exercise\n",
    "Create a trackbar that control the hysterisis thresholds and display the resulting images from the changes in the thresholds."
   ]
  },
  {
   "cell_type": "code",
   "execution_count": 4,
   "id": "5a515e77",
   "metadata": {},
   "outputs": [],
   "source": [
    "img = cv.imread(\"images/pineapple.jfif\")\n",
    "gray = cv.cvtColor(img, cv.COLOR_BGR2GRAY)\n",
    "\n",
    "ratio = 2.5\n",
    "trackbar_name = \"Th1\"\n",
    "wn = \"Canny\"\n",
    "ksize = 3\n",
    "\n",
    "def cannyThreshold(val):\n",
    "    \"\"\"Trackbar callback function\"\"\"\n",
    "    edge = cv.Canny(gray, val, ratio*val, apertureSize=ksize)\n",
    "    mask = edge != 0\n",
    "    res = img * (mask[:, :, None].astype(np.uint8))\n",
    "    cv.imshow(wn, res)\n",
    "    \n",
    "cv.namedWindow(wn)\n",
    "cv.createTrackbar(trackbar_name, wn, 10, 100, cannyThreshold)\n",
    "\n",
    "cv.waitKey(0)\n",
    "cv.destroyAllWindows()"
   ]
  },
  {
   "cell_type": "code",
   "execution_count": 5,
   "id": "a887aca3",
   "metadata": {},
   "outputs": [],
   "source": [
    "def auto_canny(img, method, sigma=0.33):\n",
    "    \"\"\"Args:\n",
    "    img: grayscale image\n",
    "    method: median, otsu, triangle\n",
    "    sigma:0.33 (default)\"\"\"\n",
    "    if method == \"median\":\n",
    "        Th = np.median(img)\n",
    "    \n",
    "    elif method == \"otsu\":\n",
    "        Th = cv.threshold(img, 0, 255, cv.THRESH_OTSU)[0]\n",
    "        \n",
    "    elif method == \"triangle\":\n",
    "        Th = cv.threshold(img, 0, 255, cv.THRESH_TRIANGLE)[0]\n",
    "    \n",
    "    else:\n",
    "        raise Exception(\"Method specified unavailable\")\n",
    "    \n",
    "    lowTh = (1-sigma) * Th\n",
    "    highTh = (1+sigma) *Th\n",
    "    \n",
    "    return cv.Canny(img, lowTh, highTh)"
   ]
  },
  {
   "cell_type": "markdown",
   "id": "bc34e60c",
   "metadata": {},
   "source": [
    "## Contour detection"
   ]
  },
  {
   "cell_type": "code",
   "execution_count": 40,
   "id": "61d18350",
   "metadata": {},
   "outputs": [],
   "source": [
    "rect = np.zeros((256, 256), dtype=np.uint8)\n",
    "\n",
    "cv.rectangle(rect, (25, 25), (231, 231), 255, -1)\n",
    "\n",
    "show_img(\"rect\", rect)"
   ]
  },
  {
   "cell_type": "code",
   "execution_count": 41,
   "id": "9644ce89",
   "metadata": {},
   "outputs": [
    {
     "data": {
      "text/plain": [
       "1"
      ]
     },
     "execution_count": 41,
     "metadata": {},
     "output_type": "execute_result"
    }
   ],
   "source": [
    "contours, _ = cv.findContours(rect, cv.RETR_EXTERNAL, cv.CHAIN_APPROX_SIMPLE)\n",
    "\n",
    "len(contours)"
   ]
  },
  {
   "cell_type": "code",
   "execution_count": 43,
   "id": "3e5df27a",
   "metadata": {},
   "outputs": [
    {
     "data": {
      "text/plain": [
       "(array([[[ 25,  25]],\n",
       " \n",
       "        [[ 25, 231]],\n",
       " \n",
       "        [[231, 231]],\n",
       " \n",
       "        [[231,  25]]], dtype=int32),)"
      ]
     },
     "execution_count": 43,
     "metadata": {},
     "output_type": "execute_result"
    }
   ],
   "source": [
    "contours"
   ]
  },
  {
   "cell_type": "code",
   "execution_count": 53,
   "id": "79247c01",
   "metadata": {},
   "outputs": [],
   "source": [
    "# load an image\n",
    "img_bgr = cv.imread(\"images/monitor.jfif\")\n",
    "img = cv.imread(\"images/monitor.jfif\", 0)\n",
    "\n",
    "# threshold\n",
    "th = cv.threshold(img, 200, 255, cv.THRESH_BINARY_INV)[1]\n",
    "\n",
    "show_img(\"threshold\", th)\n",
    "\n",
    "contours, _ = cv.findContours(th, cv.RETR_TREE, cv.CHAIN_APPROX_SIMPLE)"
   ]
  },
  {
   "cell_type": "code",
   "execution_count": 48,
   "id": "e9cbd82f",
   "metadata": {},
   "outputs": [
    {
     "data": {
      "text/plain": [
       "12"
      ]
     },
     "execution_count": 48,
     "metadata": {},
     "output_type": "execute_result"
    }
   ],
   "source": [
    "len(contours)"
   ]
  },
  {
   "cell_type": "code",
   "execution_count": 49,
   "id": "134c68f6",
   "metadata": {},
   "outputs": [],
   "source": [
    "cv.drawContours(img_bgr, contours, -1, (0, 255, 0), 1)\n",
    "\n",
    "show_img(\"contours\", img_bgr)"
   ]
  },
  {
   "cell_type": "code",
   "execution_count": 54,
   "id": "ae68f7a9",
   "metadata": {},
   "outputs": [],
   "source": [
    "contours, _ = cv.findContours(th, cv.RETR_EXTERNAL, cv.CHAIN_APPROX_SIMPLE)\n",
    "\n",
    "img_bgr_copy = img_bgr.copy()\n",
    "cv.drawContours(img_bgr_copy, contours, -1, (0, 255, 0), 1)\n",
    "\n",
    "show_img(\"contours\", img_bgr_copy)"
   ]
  },
  {
   "cell_type": "code",
   "execution_count": 55,
   "id": "d7c62466",
   "metadata": {},
   "outputs": [
    {
     "data": {
      "text/plain": [
       "1"
      ]
     },
     "execution_count": 55,
     "metadata": {},
     "output_type": "execute_result"
    }
   ],
   "source": [
    "len(contours)"
   ]
  },
  {
   "cell_type": "code",
   "execution_count": 59,
   "id": "9da2fcba",
   "metadata": {},
   "outputs": [],
   "source": [
    "contours, _ = cv.findContours(th, cv.RETR_TREE, cv.CHAIN_APPROX_SIMPLE)"
   ]
  },
  {
   "cell_type": "code",
   "execution_count": 60,
   "id": "88ea7a8c",
   "metadata": {},
   "outputs": [
    {
     "data": {
      "text/plain": [
       "12"
      ]
     },
     "execution_count": 60,
     "metadata": {},
     "output_type": "execute_result"
    }
   ],
   "source": [
    "len(contours)"
   ]
  },
  {
   "cell_type": "code",
   "execution_count": 61,
   "id": "87a5d3d1",
   "metadata": {},
   "outputs": [],
   "source": [
    "# contours with maximum number of points\n",
    "length = [len(c) for c in contours]\n",
    "contour_largest = contours[np.argmax(length)]\n",
    "\n",
    "img_bgr_copy = img_bgr.copy()\n",
    "cv.drawContours(img_bgr_copy, [contour_largest], -1, (0, 255, 0), 1)\n",
    "\n",
    "show_img(\"contours\", img_bgr_copy)"
   ]
  },
  {
   "cell_type": "code",
   "execution_count": 62,
   "id": "a3e77bc6",
   "metadata": {},
   "outputs": [
    {
     "name": "stdout",
     "output_type": "stream",
     "text": [
      "4.6.0\n"
     ]
    }
   ],
   "source": [
    "print(cv.__version__)"
   ]
  },
  {
   "cell_type": "code",
   "execution_count": 63,
   "id": "31788924",
   "metadata": {},
   "outputs": [],
   "source": [
    "cnt = contour_largest"
   ]
  },
  {
   "cell_type": "markdown",
   "id": "5c9a334e",
   "metadata": {},
   "source": [
    "## Contour features"
   ]
  },
  {
   "cell_type": "code",
   "execution_count": 64,
   "id": "73ec81fb",
   "metadata": {},
   "outputs": [
    {
     "name": "stdout",
     "output_type": "stream",
     "text": [
      "{'m00': 37113.5, 'm10': 3913689.5, 'm01': 3849569.1666666665, 'm20': 529272493.25, 'm11': 402572898.125, 'm02': 519454930.25, 'm30': 80631725758.65001, 'm21': 53484537787.45, 'm12': 53828827220.55, 'm03': 80175930424.35, 'mu20': 116566456.29821026, 'mu11': -3371527.140929699, 'mu02': 120161337.11136603, 'mu30': 234618732.78678894, 'mu21': -702775455.4171028, 'mu12': -249269762.75935364, 'mu03': 1368584318.4292145, 'nu20': 0.08462716040157804, 'nu11': -0.0024477261916909816, 'nu02': 0.08723704119285126, 'nu30': 0.0008841641534443626, 'nu21': -0.002648419664618219, 'nu12': -0.0009393767758931957, 'nu03': 0.005157530180767104}\n"
     ]
    }
   ],
   "source": [
    "M = cv.moments(cnt)\n",
    "print(M)"
   ]
  },
  {
   "cell_type": "code",
   "execution_count": 65,
   "id": "4e3fe808",
   "metadata": {},
   "outputs": [
    {
     "name": "stdout",
     "output_type": "stream",
     "text": [
      "the centroid of monitor: (105, 103)\n"
     ]
    }
   ],
   "source": [
    "# centroid (center of mass)\n",
    "cx = int(M[\"m10\"] / M[\"m00\"])\n",
    "cy = int(M[\"m01\"] / M[\"m00\"])\n",
    "\n",
    "print(f\"the centroid of monitor: {(cx, cy)}\")"
   ]
  },
  {
   "cell_type": "code",
   "execution_count": 66,
   "id": "d3e6a58f",
   "metadata": {},
   "outputs": [
    {
     "name": "stdout",
     "output_type": "stream",
     "text": [
      "The area of monitor: 37113.5\n",
      "The perimeter of monitor: 1056.777\n"
     ]
    }
   ],
   "source": [
    "# area and perimeter\n",
    "area = cv.contourArea(cnt)\n",
    "peri = cv.arcLength(cnt, True)\n",
    "\n",
    "print(f\"The area of monitor: {area}\")\n",
    "print(f\"The perimeter of monitor: {peri:.3f}\")"
   ]
  },
  {
   "cell_type": "code",
   "execution_count": 70,
   "id": "11b82435",
   "metadata": {},
   "outputs": [],
   "source": [
    "img = cv.imread(\"images/remote-controller.webp\")\n",
    "\n",
    "show_img(\"img\", img)"
   ]
  },
  {
   "cell_type": "code",
   "execution_count": 71,
   "id": "0b17cc3b",
   "metadata": {},
   "outputs": [],
   "source": [
    "# resize -> grayscale -> bilateral filter -> edge detection -> find contour -> contour features\n",
    "factor = 300 / img.shape[1]\n",
    "img = cv.resize(img, None, fx=factor, fy=factor)\n",
    "gray = cv.cvtColor(img, cv.COLOR_BGR2GRAY)\n",
    "blur = cv.bilateralFilter(gray, 7, 19, 13)\n",
    "edge = auto_canny(blur, method=\"triangle\")\n",
    "\n",
    "show_img(\"edge\", edge)"
   ]
  },
  {
   "cell_type": "code",
   "execution_count": 75,
   "id": "963c5ea8",
   "metadata": {},
   "outputs": [],
   "source": [
    "# fing contour\n",
    "contours, _ = cv.findContours(edge, cv.RETR_TREE, cv.CHAIN_APPROX_SIMPLE)\n",
    "# area\n",
    "contours = sorted(contours, key=cv.contourArea, reverse=True)[:5]\n",
    "screen = None\n",
    "img_copy = img.copy()\n",
    "\n",
    "for c in contours:\n",
    "    peri = cv.arcLength(c, True)\n",
    "    approx = cv.approxPolyDP(c, 0.1*peri, True)\n",
    "    \n",
    "    if len(approx)==4:\n",
    "        screen = c\n",
    "        break\n",
    "\n",
    "cv.drawContours(img_copy, [screen], -1, (0, 255, 0), 2)\n",
    "show_img(\"screen\", img_copy)"
   ]
  },
  {
   "cell_type": "markdown",
   "id": "dd7d0f6e",
   "metadata": {},
   "source": [
    "Circularity:\n",
    "\n",
    "$$circularity = \\frac{4 \\times \\pi \\times Area}{Perimeter^2}$$"
   ]
  },
  {
   "cell_type": "markdown",
   "id": "dcfe416d",
   "metadata": {},
   "source": [
    "### Demo on red object detector"
   ]
  },
  {
   "cell_type": "code",
   "execution_count": 11,
   "id": "4c6c7fe2",
   "metadata": {},
   "outputs": [],
   "source": [
    "redLow1 = (0, 90, 40)\n",
    "redHigh1 = (10, 255, 210)\n",
    "\n",
    "redLow2 = (170, 90, 40)\n",
    "redHigh2 = (179, 255, 210)\n",
    "\n",
    "cap = cv.VideoCapture(0)\n",
    "\n",
    "if not cap.isOpened():\n",
    "    sys.exit(\"No webcam detected\")\n",
    "    \n",
    "# factor\n",
    "fixed_width = min_area = 500\n",
    "factor = fixed_width / cap.get(3)  # frame width\n",
    "kernel = np.ones((3, 3), dtype=np.uint8)\n",
    "\n",
    "while (1):\n",
    "    ret, frame = cap.read()\n",
    "    \n",
    "    if not ret:\n",
    "        print(\"No frame received\")\n",
    "        break\n",
    "    \n",
    "    # resize, blur, change to hsv, inRange, mask integration, morphological operation, find contour, bounding box\n",
    "    resize = cv.resize(frame, None, fx=factor, fy=factor)\n",
    "    blur = cv.GaussianBlur(resize, (5, 5), 0)\n",
    "    img_hsv = cv.cvtColor(blur, cv.COLOR_BGR2HSV)\n",
    "    \n",
    "    mask1 = cv.inRange(img_hsv, redLow1, redHigh1)\n",
    "    mask2 = cv.inRange(img_hsv, redLow2, redHigh2)\n",
    "    mask = cv.add(mask1, mask2)\n",
    "    # suppress noise\n",
    "    mask = cv.morphologyEx(mask, cv.MORPH_OPEN, kernel, iterations=2)\n",
    "    \n",
    "    # find contours\n",
    "    contours, _ = cv.findContours(mask, cv.RETR_EXTERNAL, cv.CHAIN_APPROX_SIMPLE)\n",
    "    \n",
    "    bbs = []\n",
    "    centroids = []\n",
    "    for c in contours:\n",
    "        area = cv.contourArea(c)\n",
    "        if area > min_area:\n",
    "            bb = cv.boundingRect(c)\n",
    "            M = cv.moments(c)\n",
    "            cx, cy = int(M[\"m10\"]/M[\"m00\"]), int(M[\"m01\"]/M[\"m00\"])\n",
    "            centroids.append((cx, cy))\n",
    "            bbs.append(bb)\n",
    "            \n",
    "    for bb, centroid in zip(bbs, centroids):\n",
    "        x, y, w, h = bb\n",
    "        cv.rectangle(resize, (x, y), (x+w, y+h), (0, 255, 0), 2)\n",
    "        cv.circle(resize, centroid, 2, (255, 0, 0), -1)\n",
    "        \n",
    "    cv.imshow(\"red object\", resize)\n",
    "    k = cv.waitKey(1) & 0xFF\n",
    "    if k == 27:\n",
    "        break\n",
    "        \n",
    "cv.destroyAllWindows()\n",
    "cap.release()"
   ]
  },
  {
   "cell_type": "markdown",
   "id": "ed18ee03",
   "metadata": {},
   "source": [
    "## Weekly Activity\n",
    "1. Experiment with different edge detectors: Sobel, Laplacian, Prewitt, Scharr derivatives and Canny operators (all with aperture size of 3) on image named 'pineapple.jfif'. Comment on the results."
   ]
  },
  {
   "cell_type": "code",
   "execution_count": null,
   "id": "188e32e3",
   "metadata": {},
   "outputs": [],
   "source": [
    "img = cv.imread(\"images/pineapple.jfif\", 0)\n",
    "\n",
    "th = cv.threshold(img, 200, 255, cv.THRESH_BINARY_INV)[1]\n",
    "\n",
    "sobelx_32f = cv.Sobel(th, cv.CV_32F, 1, 0, ksize=3)\n",
    "sobely_32f = cv.Sobel(th, cv.CV_32F, 0, 1, ksize=3)\n",
    "sobel = cv.magnitude(sobelx_32f, sobely_32f)\n",
    "\n",
    "laplacian = cv.Laplacian(img, cv.CV_32F, ksize=3)\n",
    "\n",
    "prewittx_kernel = np.array([[-1, 0, 1], [-1, 0, 1], [-1, 0, 1]])\n",
    "prewitty_kernel = np.array([[1, 1, 1], [0, 0, 0], [-1, -1, -1]])\n",
    "prewitt_x = cv.filter2D(img, cv.CV_32F, prewittx_kernel)\n",
    "prewitt_y = cv.filter2D(img, cv.CV_32F, prewitty_kernel)\n",
    "prewitt = cv.magnitude(prewitt_x, prewitt_y)\n",
    "\n",
    "scharrx = cv.Scharr(img, cv.CV_32F, 1, 0)\n",
    "scharry = cv.Scharr(img, cv.CV_32F, 0, 1)\n",
    "scharr = cv.magnitude(scharrx, scharry)\n",
    "\n",
    "canny = cv.Canny(img, 30, 100)\n",
    "\n",
    "\n",
    "cv.imshow(\"Sobel\", sobel)\n",
    "cv.imshow(\"Laplacian\", laplacian)\n",
    "cv.imshow(\"Prewitt\", prewitt)\n",
    "cv.imshow(\"Scharr\", scharr)\n",
    "cv.imshow(\"Canny\", canny)\n",
    "\n",
    "cv.waitKey(0)\n",
    "cv.destroyAllWindows()"
   ]
  },
  {
   "cell_type": "code",
   "execution_count": null,
   "id": "507360f0",
   "metadata": {},
   "outputs": [],
   "source": [
    "# Sobel: Some details in the pineapple texture are highlighted.\n",
    "# Laplacian: It highlights all the pineapple edges but it introduce some noise.\n",
    "# Prewitt: Cant see the edge of pineapple. It has some much noise and it cover the edges of the pineapple.\n",
    "# Scharr: Similar to Prewitt.\n",
    "# Canny: It highlights all the pineapple edges and even the grass edges. It is well-defined."
   ]
  },
  {
   "cell_type": "markdown",
   "id": "930e073a",
   "metadata": {},
   "source": [
    "2. Write a program to identify the white object (probably laptop) present in the image 'electronic.jfif'. Draw bounding boxes on the objects."
   ]
  },
  {
   "cell_type": "code",
   "execution_count": 61,
   "id": "ae5cf249",
   "metadata": {},
   "outputs": [],
   "source": [
    "img = cv.imread(\"images/electronic.jfif\")\n",
    "\n",
    "hsv = cv.cvtColor(img, cv.COLOR_BGR2HSV)\n",
    "\n",
    "white_low = np.array([0, 0, 200])\n",
    "white_high = np.array([179, 50, 255])\n",
    "\n",
    "mask = cv.inRange(hsv, white_low, white_high)\n",
    "contours, _ = cv.findContours(mask, cv.RETR_TREE, cv.CHAIN_APPROX_SIMPLE)\n",
    "\n",
    "img_copy = img.copy()\n",
    "\n",
    "for contour in contours:\n",
    "    x, y, w, h = cv.boundingRect(contour)\n",
    "    cv.rectangle(img_copy, (x, y), (x + w, y + h), (0, 255, 0), 2)\n",
    "\n",
    "show_img(\"White Objects\", img_copy)"
   ]
  },
  {
   "cell_type": "markdown",
   "id": "3c8ca14a",
   "metadata": {},
   "source": [
    "3. Isolate the clock with the aid of edge detection and contours' properties. The example result should be as follows:"
   ]
  },
  {
   "cell_type": "code",
   "execution_count": 65,
   "id": "89eb46dc",
   "metadata": {},
   "outputs": [],
   "source": [
    "img = cv.imread(\"images/clock.jpg\")\n",
    "img_copy = img.copy()\n",
    "gray = cv.cvtColor(img, cv.COLOR_BGR2GRAY)\n",
    "blur = cv.GaussianBlur(gray, (5, 5), 0)\n",
    "edge = auto_canny(blur, method=\"triangle\")\n",
    "\n",
    "contours, _ = cv.findContours(edge, cv.RETR_EXTERNAL, cv.CHAIN_APPROX_SIMPLE)\n",
    "\n",
    "min = 0.7\n",
    "max = 1.3\n",
    "clock_contours = []\n",
    "\n",
    "for contour in contours:\n",
    "    area = cv.contourArea(contour)\n",
    "    peri = cv.arcLength(contour, True)\n",
    "    circularity = (4 * np.pi * area) / (peri ** 2)\n",
    "\n",
    "    if min < circularity < max:\n",
    "        clock_contours.append(contour)\n",
    "        \n",
    "for contour in clock_contours:\n",
    "    (x, y), radius = cv.minEnclosingCircle(contour)\n",
    "    center = (int(x), int(y))\n",
    "    radius = int(radius)\n",
    "    cv.circle(img_copy, center, radius, (0, 255, 0), 2)\n",
    "\n",
    "show_img(\"Isolated Clock\", img_copy)"
   ]
  },
  {
   "cell_type": "code",
   "execution_count": null,
   "id": "b259fe89",
   "metadata": {},
   "outputs": [],
   "source": []
  }
 ],
 "metadata": {
  "kernelspec": {
   "display_name": "Python 3 (ipykernel)",
   "language": "python",
   "name": "python3"
  },
  "language_info": {
   "codemirror_mode": {
    "name": "ipython",
    "version": 3
   },
   "file_extension": ".py",
   "mimetype": "text/x-python",
   "name": "python",
   "nbconvert_exporter": "python",
   "pygments_lexer": "ipython3",
   "version": "3.11.4"
  },
  "varInspector": {
   "cols": {
    "lenName": 16,
    "lenType": 16,
    "lenVar": 40
   },
   "kernels_config": {
    "python": {
     "delete_cmd_postfix": "",
     "delete_cmd_prefix": "del ",
     "library": "var_list.py",
     "varRefreshCmd": "print(var_dic_list())"
    },
    "r": {
     "delete_cmd_postfix": ") ",
     "delete_cmd_prefix": "rm(",
     "library": "var_list.r",
     "varRefreshCmd": "cat(var_dic_list()) "
    }
   },
   "types_to_exclude": [
    "module",
    "function",
    "builtin_function_or_method",
    "instance",
    "_Feature"
   ],
   "window_display": false
  }
 },
 "nbformat": 4,
 "nbformat_minor": 5
}
